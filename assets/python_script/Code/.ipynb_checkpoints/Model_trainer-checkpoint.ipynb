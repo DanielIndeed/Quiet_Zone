{
 "cells": [
  {
   "cell_type": "code",
   "execution_count": 1,
   "id": "89c8d0d1-c95c-467a-b303-28265c43959c",
   "metadata": {},
   "outputs": [],
   "source": [
    "#Reading data\n",
    "\n",
    "import pandas as pd\n",
    "import numpy as np\n",
    "from sklearn.model_selection import train_test_split \n",
    "from sklearn.ensemble import RandomForestClassifier\n",
    "\n",
    "np.set_printoptions(suppress=True)\n",
    "\n",
    "train_data = pd.read_csv(r\"C:\\Users\\boscu\\Code Projects\\Keep On Hearing\\e-nnovate\\Android Phone\\Data\\AI\\Dataset1.csv\", delimiter=',') # Read in data\n",
    "\n",
    "labels = np.array(train_data['Earplugs']) # Labels are the values we want to predict\n",
    "criteria = np.array(train_data['Criteria'])\n",
    "\n",
    "train_data = train_data.drop('Earplugs', axis = 1) # Remove the labels from the features and axis 1 refers to the columns\n",
    "train_data = train_data.drop('Criteria', axis = 1)\n",
    "\n",
    "train_data_list = list(train_data.columns) # Saving factor names for later use\n",
    "train_data = np.array(train_data) # Convert to numpy array"
   ]
  },
  {
   "cell_type": "code",
   "execution_count": 2,
   "id": "20eb1b65-b406-4c90-ae22-4c18b627a8ed",
   "metadata": {},
   "outputs": [],
   "source": [
    "#Training data\n",
    "\n",
    "# Split the data into training and testing sets\n",
    "train_train_data, test_train_data, train_labels, test_labels = train_test_split(\n",
    "    train_data, \n",
    "    labels, \n",
    "    test_size = 0.25, \n",
    "    random_state = 1001,\n",
    ")\n",
    "\n",
    "# Instantiate model with 1000 decision trees\n",
    "rf = RandomForestClassifier(\n",
    "    n_estimators = 780, \n",
    "    random_state = 42,\n",
    "    max_depth = 13\n",
    ") \n",
    "\n",
    "rf.fit(train_train_data, train_labels); # Train the model on training data"
   ]
  },
  {
   "cell_type": "code",
   "execution_count": 3,
   "id": "2e3a2b46-c675-4f5a-933c-b9f1248159f8",
   "metadata": {},
   "outputs": [],
   "source": [
    "import joblib\n",
    "\n",
    "joblib_file = \"joblib_rf.pkl\"  \n",
    "joblib.dump(rf, joblib_file)\n",
    "\n",
    "ML_model = joblib.load(joblib_file)"
   ]
  },
  {
   "cell_type": "code",
   "execution_count": 4,
   "id": "91b59e58-397b-492c-b6a7-301da2a28b98",
   "metadata": {},
   "outputs": [],
   "source": [
    "predictions = ML_model.predict(test_train_data)"
   ]
  },
  {
   "cell_type": "code",
   "execution_count": null,
   "id": "c7b23dde",
   "metadata": {},
   "outputs": [],
   "source": []
  }
 ],
 "metadata": {
  "kernelspec": {
   "display_name": "Python 3 (ipykernel)",
   "language": "python",
   "name": "python3"
  },
  "language_info": {
   "codemirror_mode": {
    "name": "ipython",
    "version": 3
   },
   "file_extension": ".py",
   "mimetype": "text/x-python",
   "name": "python",
   "nbconvert_exporter": "python",
   "pygments_lexer": "ipython3",
   "version": "3.9.13"
  }
 },
 "nbformat": 4,
 "nbformat_minor": 5
}
